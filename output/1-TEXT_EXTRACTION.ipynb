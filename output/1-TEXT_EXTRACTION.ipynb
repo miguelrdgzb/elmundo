{
 "cells": [
  {
   "cell_type": "markdown",
   "id": "piano-converter",
   "metadata": {},
   "source": [
    "# Extracción de datos con Selenium\n",
    "\n",
    "![data_ext](images/data_ext.jpeg)"
   ]
  },
  {
   "cell_type": "code",
   "execution_count": null,
   "id": "grave-patient",
   "metadata": {},
   "outputs": [],
   "source": [
    "# Importo todas las librerias que voy a utilizar en este notebook.\n",
    "\n",
    "from selenium import webdriver\n",
    "from selenium.webdriver.common.keys import Keys\n",
    "import time\n",
    "import random\n",
    "import pandas as pd\n",
    "import numpy as np"
   ]
  },
  {
   "cell_type": "code",
   "execution_count": null,
   "id": "covered-shirt",
   "metadata": {},
   "outputs": [],
   "source": [
    "# Abro el navegador en la pagina del mundo principal para aceptar las cookies, luego directamente le paso la url\n",
    "# la url del buscador para que reedirija a este buscador con las cookies aceptadas.\n",
    "\n",
    "path = '.\\elmundo\\input\\chromedriver'\n",
    "driver = webdriver.Chrome(path)\n",
    "driver.get('https://elmundo.es')\n",
    "time.sleep(random.uniform(2.0,4.0))\n",
    "boton_condiciones = driver.find_element_by_xpath('//button[@id=\"didomi-notice-agree-button\"]')\n",
    "boton_condiciones.click()\n",
    "time.sleep(random.uniform(2.0,4.0))\n",
    "driver.get('https://ariadna.elmundo.es/buscador/archivo.html')\n",
    "time.sleep(random.uniform(2.0,4.0))\n",
    "buscador = driver.find_element_by_xpath('//*[@id=\"formulario\"]/label[1]/input')\n",
    "\n",
    "# Introduce la palabra a buscar y acepta.\n",
    "keys = 'musica'\n",
    "buscador.send_keys(keys)\n",
    "boton_buscar2 = driver.find_element_by_xpath('//*[@id=\"formulario\"]/label[2]/input')\n",
    "boton_buscar2.click()"
   ]
  },
  {
   "cell_type": "code",
   "execution_count": null,
   "id": "worst-rotation",
   "metadata": {},
   "outputs": [],
   "source": [
    "# Una vez en la página, establecemos un bucle por el que irá iterando por las paginas, cogiendo con cada etiqueta \n",
    "# un elemento de cada noticia, y lo vamos guardando en diferentes listas. \n",
    "numero = 0\n",
    "url = 'https://ariadna.elmundo.es/buscador/archivo.html?q=musica&t=1&i='+str(numero)+'1&n=10&fd=0&td=0&w=70&s=1'\n",
    "heads = []\n",
    "texts = []\n",
    "otros_datos = []\n",
    "rango_paginas = range(100)\n",
    "\n",
    "for i in rango_paginas:\n",
    "    driver.get(url)\n",
    "\n",
    "\n",
    "    cajas_noticias = driver.find_elements_by_xpath('//*[@class=\"lista_resultados\"]/li')\n",
    "    for i in cajas_noticias:\n",
    "        heads.append(i.find_element_by_tag_name('h3').text)\n",
    "    textos = driver.find_elements_by_xpath('//*[@class=\"lista_resultados\"]/li/p')\n",
    "    for j in textos:\n",
    "        texts.append(j.text)\n",
    "\n",
    "    fechas = driver.find_elements_by_xpath('//div[@class=\"metadata_resultado\"]')\n",
    "    for f in fechas:\n",
    "        f.find_elements_by_class_name('span')\n",
    "        otros_datos.append(f.text)\n",
    "    numero += 1\n",
    "    url = 'https://ariadna.elmundo.es/buscador/archivo.html?q=musica&t=1&i='+str(numero)+'1&n=10&fd=0&td=0&w=70&s=1'\n",
    "    time.sleep(random.uniform(2.0,4.0))"
   ]
  },
  {
   "cell_type": "code",
   "execution_count": null,
   "id": "instrumental-alaska",
   "metadata": {},
   "outputs": [],
   "source": [
    "# Filtramos algunos elementos que se nos han colado y seleccionamos los 500 elementos de cada lista para construir\n",
    "# un dataframe.Nota: Algunos de los elementos de las ultimas paginas se habian seleccionado mal, y por eso cojo las\n",
    "# primeras 500.\n",
    "for j in heads:\n",
    "    if j == 'Cultura':\n",
    "        heads.remove(j)\n",
    "\n",
    "        \n",
    "for i in texts:\n",
    "    if i == 'Noticias relacionadas':\n",
    "        texts.remove(i)\n",
    "    else:\n",
    "        if len(i) < 51:\n",
    "            texts.remove(i)\n",
    "\n",
    "cabeceras = heads2[0:500]\n",
    "textos = texts[0:500]\n",
    "otros_datos3 = otros_datos[0:500]"
   ]
  },
  {
   "cell_type": "code",
   "execution_count": null,
   "id": "alone-junction",
   "metadata": {},
   "outputs": [],
   "source": [
    "df_elmundo = pd.DataFrame({\n",
    "    'Titulares': cabeceras,\n",
    "    'Texto': textos,\n",
    "    'Otros_datos': otros_datos3\n",
    "})"
   ]
  },
  {
   "cell_type": "code",
   "execution_count": null,
   "id": "familiar-archives",
   "metadata": {},
   "outputs": [],
   "source": [
    "# Guardo el CSV. Nota: Hay que guardarlo con como latin1, ya que todavia tenemos signos propios del español.\n",
    "df_elmundo.to_csv('df_elmundo.csv', encoding='latin1')"
   ]
  }
 ],
 "metadata": {
  "kernelspec": {
   "display_name": "Python 3",
   "language": "python",
   "name": "python3"
  },
  "language_info": {
   "codemirror_mode": {
    "name": "ipython",
    "version": 3
   },
   "file_extension": ".py",
   "mimetype": "text/x-python",
   "name": "python",
   "nbconvert_exporter": "python",
   "pygments_lexer": "ipython3",
   "version": "3.9.1"
  }
 },
 "nbformat": 4,
 "nbformat_minor": 5
}
