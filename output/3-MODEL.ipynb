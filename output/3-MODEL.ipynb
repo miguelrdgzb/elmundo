{
 "cells": [
  {
   "cell_type": "markdown",
   "id": "quiet-sphere",
   "metadata": {},
   "source": [
    "# El modelo\n",
    "\n",
    "![img](images/ml.jpg)"
   ]
  },
  {
   "cell_type": "markdown",
   "id": "illegal-treasurer",
   "metadata": {},
   "source": [
    "***El modelo consiste en intentar crear un clasificador binario de noticia y que pueda diferenciar las noticias que tengan relación con música, de las que no***"
   ]
  },
  {
   "cell_type": "code",
   "execution_count": null,
   "id": "unusual-healthcare",
   "metadata": {},
   "outputs": [],
   "source": [
    "# Importo las librerias que voy a utilizar en este notebook\n",
    "\n",
    "import pandas as pd\n",
    "import numpy as np\n",
    "import matplotlib.pyplot as plt\n",
    "from sklearn.model_selection import train_test_split\n",
    "from sklearn.feature_extraction.text import CountVectorizer\n",
    "from sklearn.metrics import classification_report, confusion_matrix\n",
    "from sklearn.linear_model import LogisticRegression\n",
    "from sklearn.svm import SVC\n",
    "from sklearn.model_selection import GridSearchCV\n",
    "from sklearn.ensemble import RandomForestClassifier\n",
    "import keras"
   ]
  },
  {
   "cell_type": "code",
   "execution_count": null,
   "id": "included-panel",
   "metadata": {},
   "outputs": [],
   "source": [
    "df = pd.read_csv('../elmundo/input/df_model.csv',index_col=[0])\n",
    "df.sample(5)"
   ]
  },
  {
   "cell_type": "code",
   "execution_count": null,
   "id": "special-effects",
   "metadata": {},
   "outputs": [],
   "source": [
    "# Sacamos la X y la y\n",
    "frases = df.stems.values\n",
    "y = df.Label.values"
   ]
  },
  {
   "cell_type": "code",
   "execution_count": null,
   "id": "opposed-schema",
   "metadata": {},
   "outputs": [],
   "source": [
    "# Dividimos en train y test\n",
    "\n",
    "frases_train, frases_test, y_train, y_test = train_test_split(frases,\n",
    "                                                             y,\n",
    "                                                             test_size=0.15,\n",
    "                                                             random_state=42)"
   ]
  },
  {
   "cell_type": "code",
   "execution_count": null,
   "id": "interim-leather",
   "metadata": {},
   "outputs": [],
   "source": [
    "# Vectorizamos los stems\n",
    "vectorizer = CountVectorizer()\n",
    "vectorizer.fit(frases_train)\n",
    "\n",
    "X_train = vectorizer.transform(frases_train)\n",
    "X_test = vectorizer.transform(frases_test)"
   ]
  },
  {
   "cell_type": "code",
   "execution_count": null,
   "id": "taken-chaos",
   "metadata": {},
   "outputs": [],
   "source": [
    "# Sacamos un 0,05 para validación.\n",
    "X_train, X_valid, y_train, y_valid = train_test_split(X_train,\n",
    "                                                     y_train,\n",
    "                                                     test_size=0.05,\n",
    "                                                     random_state=42)"
   ]
  },
  {
   "cell_type": "code",
   "execution_count": null,
   "id": "greenhouse-script",
   "metadata": {},
   "outputs": [],
   "source": [
    "# Creamos la red neuronal para clasificación\n",
    "# 1 salida.\n",
    "\n",
    "input_dim = X_train.shape[1]\n",
    "model = keras.models.Sequential([\n",
    "    keras.layers.Dense(input_dim = input_dim,\n",
    "                      units=30,\n",
    "                      activation='sigmoid'),\n",
    "\n",
    "    keras.layers.Dense(units=1, activation='sigmoid'),\n",
    "])\n",
    "opt = keras.optimizers.Adam(learning_rate=0.001)\n",
    "model.compile(loss = 'binary_crossentropy', \n",
    "             optimizer=opt, metrics='accuracy')\n",
    "early_stopping_cb = keras.callbacks.EarlyStopping(patience = 3,\n",
    "                                                 restore_best_weights=True)\n",
    "history = model.fit(X_train,\n",
    "                   y_train,\n",
    "                   epochs=60,\n",
    "                   batch_size=128,\n",
    "                   callbacks = early_stopping_cb, \n",
    "                   validation_data=(X_valid, y_valid))\n",
    "pd.DataFrame(history.history).plot(figsize=(8,5))\n",
    "plt.grid()\n",
    "\n",
    "plt.show()\n",
    "loss, accuracy = model.evaluate(X_train, y_train, verbose=False)\n",
    "print(\"Training Accuracy: {:.4f}\".format(accuracy))\n",
    "loss, accuracy = model.evaluate(X_test, y_test, verbose=False)\n",
    "print(\"Testing Accuracy:  {:.4f}\".format(accuracy))\n"
   ]
  },
  {
   "cell_type": "code",
   "execution_count": null,
   "id": "funky-rogers",
   "metadata": {},
   "outputs": [],
   "source": [
    "# Interpretamos los resultados antes de poder comparar con y_test\n",
    "\n",
    "predict = model.predict(X_test)\n",
    "y_pred = []\n",
    "for i in predict:\n",
    "    if i[0] > 0.5:\n",
    "        y_pred.append(1)\n",
    "    else:\n",
    "        y_pred.append(0)"
   ]
  },
  {
   "cell_type": "code",
   "execution_count": null,
   "id": "guilty-promotion",
   "metadata": {},
   "outputs": [],
   "source": [
    "print(classification_report(y_test,y_pred))"
   ]
  },
  {
   "cell_type": "code",
   "execution_count": null,
   "id": "drawn-essence",
   "metadata": {},
   "outputs": [],
   "source": [
    "model.save('../elmundo/input/clasificacion_musica.h5')"
   ]
  },
  {
   "cell_type": "markdown",
   "id": "olive-oregon",
   "metadata": {},
   "source": [
    "##### Acertamos 3 de cada 4."
   ]
  },
  {
   "cell_type": "markdown",
   "id": "secret-services",
   "metadata": {},
   "source": [
    "## Logistic Regression"
   ]
  },
  {
   "cell_type": "code",
   "execution_count": null,
   "id": "automotive-accountability",
   "metadata": {},
   "outputs": [],
   "source": [
    "# Vamos a probar con una regresión logistica, por si pudieramos ver algo distinto.\n",
    "params = {\n",
    "    'penalty':['l1','l2'],\n",
    "    'C': [0.2,0.3,0.4,0.5,0.6,0.7,0.8],\n",
    "    'solver': ['liblinear'],\n",
    "    'max_iter': [50,100,300],\n",
    "}\n",
    "classifier = LogisticRegression()\n",
    "grid = GridSearchCV(classifier,params)\n",
    "grid.fit(X_train, y_train)\n"
   ]
  },
  {
   "cell_type": "code",
   "execution_count": null,
   "id": "automatic-apartment",
   "metadata": {},
   "outputs": [],
   "source": [
    "grid.best_estimator_"
   ]
  },
  {
   "cell_type": "code",
   "execution_count": null,
   "id": "square-timber",
   "metadata": {},
   "outputs": [],
   "source": [
    "grid.best_score_"
   ]
  },
  {
   "cell_type": "code",
   "execution_count": null,
   "id": "outside-antibody",
   "metadata": {},
   "outputs": [],
   "source": [
    "log_y_pred = grid.best_estimator_.predict(X_test)\n",
    "print(classification_report(log_y_pred,y_test))"
   ]
  },
  {
   "cell_type": "markdown",
   "id": "australian-foster",
   "metadata": {},
   "source": [
    "La regresión logística se acerca mucho a los resultados de la red"
   ]
  },
  {
   "cell_type": "markdown",
   "id": "animal-bradford",
   "metadata": {},
   "source": [
    "## Random Forest"
   ]
  },
  {
   "cell_type": "code",
   "execution_count": null,
   "id": "bearing-salad",
   "metadata": {},
   "outputs": [],
   "source": [
    "%%time\n",
    "rf = RandomForestClassifier()\n",
    "params = {\n",
    "    'n_estimators': [50,100,300,500],\n",
    "    'max_depth': [2,3,4],\n",
    "    'max_leaf_nodes':[5,10,20,50,100],\n",
    "}\n",
    "\n",
    "grid2 = GridSearchCV(estimator=rf,param_grid=params, cv=4)\n",
    "grid2.fit(X_train, y_train)"
   ]
  },
  {
   "cell_type": "code",
   "execution_count": null,
   "id": "colonial-expression",
   "metadata": {},
   "outputs": [],
   "source": [
    "print(grid2.best_score_)\n",
    "print(grid2.best_params_)"
   ]
  },
  {
   "cell_type": "code",
   "execution_count": null,
   "id": "human-allergy",
   "metadata": {},
   "outputs": [],
   "source": [
    "# Random Forest lo hace peor que la regresión logística y que la red."
   ]
  },
  {
   "cell_type": "markdown",
   "id": "united-virginia",
   "metadata": {},
   "source": [
    "## SVC."
   ]
  },
  {
   "cell_type": "code",
   "execution_count": null,
   "id": "alien-blair",
   "metadata": {},
   "outputs": [],
   "source": [
    "svc = SVC()\n",
    "params_grid = {\n",
    "    'C':[0.1,0.2,0.3,0.4,0.5,0.6,0.7,0.8,0.9,1],\n",
    "    'kernel':['linear','poly','rbf'],\n",
    "    'degree':[2,3,4,5],\n",
    "    \n",
    "}\n",
    "grid3 = GridSearchCV(estimator=svc,\n",
    "                    param_grid=params_grid,\n",
    "                    cv=4)\n",
    "grid3.fit(X_train, y_train)"
   ]
  },
  {
   "cell_type": "code",
   "execution_count": null,
   "id": "related-habitat",
   "metadata": {},
   "outputs": [],
   "source": [
    "print(grid3.best_score_)\n",
    "print(grid3.best_params_)"
   ]
  },
  {
   "cell_type": "code",
   "execution_count": null,
   "id": "awful-painting",
   "metadata": {},
   "outputs": [],
   "source": [
    "y_pred_svc = grid3.best_estimator_.predict(X_test)\n",
    "print(classification_report(y_pred_svc,y_test))"
   ]
  },
  {
   "cell_type": "markdown",
   "id": "pressed-alliance",
   "metadata": {},
   "source": [
    "## Resultados\n",
    "\n",
    "Hemos conseguido un score de un 75% aproximadamente, acertando 3 de cada cuatro en un clasificador binario sobre texto. No son unos resultados muy buenos, pero pueden influir terminos en el cambio de idioma, igual que también podrían influir\n",
    "las elecciones de categoría que ha detectado el modelo HuggingFace."
   ]
  }
 ],
 "metadata": {
  "kernelspec": {
   "display_name": "Python 3",
   "language": "python",
   "name": "python3"
  },
  "language_info": {
   "codemirror_mode": {
    "name": "ipython",
    "version": 3
   },
   "file_extension": ".py",
   "mimetype": "text/x-python",
   "name": "python",
   "nbconvert_exporter": "python",
   "pygments_lexer": "ipython3",
   "version": "3.9.1"
  }
 },
 "nbformat": 4,
 "nbformat_minor": 5
}
