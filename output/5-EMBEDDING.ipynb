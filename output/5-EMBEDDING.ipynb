{
 "cells": [
  {
   "cell_type": "code",
   "execution_count": 1,
   "id": "entertaining-translator",
   "metadata": {},
   "outputs": [],
   "source": [
    "import pandas as pd\n",
    "import numpy as np\n",
    "import re\n",
    "import matplotlib.pyplot as plt\n",
    "%matplotlib inline\n",
    "import keras\n",
    "from sklearn.model_selection import train_test_split\n",
    "from tensorflow.keras.preprocessing.text import one_hot\n",
    "from tensorflow.keras.preprocessing.sequence import pad_sequences\n",
    "from tensorflow.keras.models import Sequential\n",
    "from tensorflow.keras.layers import Flatten, Embedding, Dense, Dropout, Activation\n",
    "from tensorflow.keras.layers import LSTM"
   ]
  },
  {
   "cell_type": "code",
   "execution_count": 2,
   "id": "stupid-jonathan",
   "metadata": {},
   "outputs": [
    {
     "data": {
      "text/html": [
       "<div>\n",
       "<style scoped>\n",
       "    .dataframe tbody tr th:only-of-type {\n",
       "        vertical-align: middle;\n",
       "    }\n",
       "\n",
       "    .dataframe tbody tr th {\n",
       "        vertical-align: top;\n",
       "    }\n",
       "\n",
       "    .dataframe thead th {\n",
       "        text-align: right;\n",
       "    }\n",
       "</style>\n",
       "<table border=\"1\" class=\"dataframe\">\n",
       "  <thead>\n",
       "    <tr style=\"text-align: right;\">\n",
       "      <th></th>\n",
       "      <th>stems</th>\n",
       "      <th>Label</th>\n",
       "    </tr>\n",
       "  </thead>\n",
       "  <tbody>\n",
       "    <tr>\n",
       "      <th>848</th>\n",
       "      <td>['real', 'theater', 'present', 'program', '202...</td>\n",
       "      <td>1</td>\n",
       "    </tr>\n",
       "    <tr>\n",
       "      <th>286</th>\n",
       "      <td>['five', 'million', 'astrazeneca', 'vaccin', '...</td>\n",
       "      <td>0</td>\n",
       "    </tr>\n",
       "    <tr>\n",
       "      <th>830</th>\n",
       "      <td>['famou', 'market', 'profit', 'well', 'known',...</td>\n",
       "      <td>0</td>\n",
       "    </tr>\n",
       "    <tr>\n",
       "      <th>431</th>\n",
       "      <td>['sinc', 'bob', 'dylan', 'got', 'rid', 'sever'...</td>\n",
       "      <td>1</td>\n",
       "    </tr>\n",
       "    <tr>\n",
       "      <th>827</th>\n",
       "      <td>['french', 'valentin', 'stay', 'lui', 'suarez']</td>\n",
       "      <td>1</td>\n",
       "    </tr>\n",
       "  </tbody>\n",
       "</table>\n",
       "</div>"
      ],
      "text/plain": [
       "                                                 stems  Label\n",
       "848  ['real', 'theater', 'present', 'program', '202...      1\n",
       "286  ['five', 'million', 'astrazeneca', 'vaccin', '...      0\n",
       "830  ['famou', 'market', 'profit', 'well', 'known',...      0\n",
       "431  ['sinc', 'bob', 'dylan', 'got', 'rid', 'sever'...      1\n",
       "827    ['french', 'valentin', 'stay', 'lui', 'suarez']      1"
      ]
     },
     "execution_count": 2,
     "metadata": {},
     "output_type": "execute_result"
    }
   ],
   "source": [
    "df = pd.read_csv('df_model.csv',index_col=[0])\n",
    "df.sample(5)"
   ]
  },
  {
   "cell_type": "code",
   "execution_count": 3,
   "id": "anticipated-words",
   "metadata": {},
   "outputs": [],
   "source": [
    "stems = []\n",
    "for i in df.stems:\n",
    "    stems.append(''.join(re.findall(r'[\\sa-z]', i)))\n",
    "df['stems'] = stems"
   ]
  },
  {
   "cell_type": "code",
   "execution_count": 4,
   "id": "ignored-audio",
   "metadata": {},
   "outputs": [
    {
     "data": {
      "text/html": [
       "<div>\n",
       "<style scoped>\n",
       "    .dataframe tbody tr th:only-of-type {\n",
       "        vertical-align: middle;\n",
       "    }\n",
       "\n",
       "    .dataframe tbody tr th {\n",
       "        vertical-align: top;\n",
       "    }\n",
       "\n",
       "    .dataframe thead th {\n",
       "        text-align: right;\n",
       "    }\n",
       "</style>\n",
       "<table border=\"1\" class=\"dataframe\">\n",
       "  <thead>\n",
       "    <tr style=\"text-align: right;\">\n",
       "      <th></th>\n",
       "      <th>stems</th>\n",
       "      <th>Label</th>\n",
       "    </tr>\n",
       "  </thead>\n",
       "  <tbody>\n",
       "    <tr>\n",
       "      <th>0</th>\n",
       "      <td>day ago began new concert tour think want sing...</td>\n",
       "      <td>1</td>\n",
       "    </tr>\n",
       "    <tr>\n",
       "      <th>1</th>\n",
       "      <td>attende festiv chao first day queue rapid an...</td>\n",
       "      <td>0</td>\n",
       "    </tr>\n",
       "    <tr>\n",
       "      <th>2</th>\n",
       "      <td>saturday mark th anniversari death leader door...</td>\n",
       "      <td>1</td>\n",
       "    </tr>\n",
       "    <tr>\n",
       "      <th>3</th>\n",
       "      <td>current   patient admit covid    yesterday spa...</td>\n",
       "      <td>0</td>\n",
       "    </tr>\n",
       "    <tr>\n",
       "      <th>4</th>\n",
       "      <td>summer cultur offer madrid increasingli inexha...</td>\n",
       "      <td>1</td>\n",
       "    </tr>\n",
       "  </tbody>\n",
       "</table>\n",
       "</div>"
      ],
      "text/plain": [
       "                                               stems  Label\n",
       "0  day ago began new concert tour think want sing...      1\n",
       "1    attende festiv chao first day queue rapid an...      0\n",
       "2  saturday mark th anniversari death leader door...      1\n",
       "3  current   patient admit covid    yesterday spa...      0\n",
       "4  summer cultur offer madrid increasingli inexha...      1"
      ]
     },
     "execution_count": 4,
     "metadata": {},
     "output_type": "execute_result"
    }
   ],
   "source": [
    "df.head()"
   ]
  },
  {
   "cell_type": "code",
   "execution_count": 5,
   "id": "substantial-marsh",
   "metadata": {
    "scrolled": true
   },
   "outputs": [
    {
     "name": "stdout",
     "output_type": "stream",
     "text": [
      "1er encoded stems: [1042, 881, 388, 2917, 8, 2331, 3268, 3532, 1423, 542, 3731, 2303, 989, 3176, 1614, 3543, 2260, 3583, 678, 2771]\n"
     ]
    }
   ],
   "source": [
    "#Teniamos 4500 palabras distintas y ya las reducimos con los stems.\n",
    "VOCAB_SIZE=3800\n",
    "\n",
    "encoded_stems = [one_hot(i, VOCAB_SIZE) for i in stems]\n",
    "print('1er encoded stems:', encoded_stems[0])\n"
   ]
  },
  {
   "cell_type": "code",
   "execution_count": 6,
   "id": "neither-projection",
   "metadata": {},
   "outputs": [],
   "source": [
    "index = []\n",
    "st = []\n",
    "for i,j in enumerate(encoded_stems):\n",
    "    index.append(i)\n",
    "    st.append(len(j))\n",
    "    \n",
    "df_len_paf = pd.DataFrame({'Index_stem': index,\n",
    "                            'Length_stem': st})\n"
   ]
  },
  {
   "cell_type": "code",
   "execution_count": 7,
   "id": "exempt-huntington",
   "metadata": {},
   "outputs": [
    {
     "data": {
      "text/html": [
       "<div>\n",
       "<style scoped>\n",
       "    .dataframe tbody tr th:only-of-type {\n",
       "        vertical-align: middle;\n",
       "    }\n",
       "\n",
       "    .dataframe tbody tr th {\n",
       "        vertical-align: top;\n",
       "    }\n",
       "\n",
       "    .dataframe thead th {\n",
       "        text-align: right;\n",
       "    }\n",
       "</style>\n",
       "<table border=\"1\" class=\"dataframe\">\n",
       "  <thead>\n",
       "    <tr style=\"text-align: right;\">\n",
       "      <th></th>\n",
       "      <th>Index_stem</th>\n",
       "      <th>Length_stem</th>\n",
       "    </tr>\n",
       "  </thead>\n",
       "  <tbody>\n",
       "    <tr>\n",
       "      <th>73</th>\n",
       "      <td>73</td>\n",
       "      <td>30</td>\n",
       "    </tr>\n",
       "    <tr>\n",
       "      <th>90</th>\n",
       "      <td>90</td>\n",
       "      <td>29</td>\n",
       "    </tr>\n",
       "    <tr>\n",
       "      <th>138</th>\n",
       "      <td>138</td>\n",
       "      <td>29</td>\n",
       "    </tr>\n",
       "    <tr>\n",
       "      <th>184</th>\n",
       "      <td>184</td>\n",
       "      <td>29</td>\n",
       "    </tr>\n",
       "    <tr>\n",
       "      <th>249</th>\n",
       "      <td>249</td>\n",
       "      <td>29</td>\n",
       "    </tr>\n",
       "    <tr>\n",
       "      <th>389</th>\n",
       "      <td>389</td>\n",
       "      <td>29</td>\n",
       "    </tr>\n",
       "    <tr>\n",
       "      <th>12</th>\n",
       "      <td>12</td>\n",
       "      <td>28</td>\n",
       "    </tr>\n",
       "    <tr>\n",
       "      <th>125</th>\n",
       "      <td>125</td>\n",
       "      <td>28</td>\n",
       "    </tr>\n",
       "    <tr>\n",
       "      <th>151</th>\n",
       "      <td>151</td>\n",
       "      <td>28</td>\n",
       "    </tr>\n",
       "    <tr>\n",
       "      <th>239</th>\n",
       "      <td>239</td>\n",
       "      <td>28</td>\n",
       "    </tr>\n",
       "    <tr>\n",
       "      <th>312</th>\n",
       "      <td>312</td>\n",
       "      <td>28</td>\n",
       "    </tr>\n",
       "    <tr>\n",
       "      <th>369</th>\n",
       "      <td>369</td>\n",
       "      <td>28</td>\n",
       "    </tr>\n",
       "    <tr>\n",
       "      <th>385</th>\n",
       "      <td>385</td>\n",
       "      <td>28</td>\n",
       "    </tr>\n",
       "    <tr>\n",
       "      <th>387</th>\n",
       "      <td>387</td>\n",
       "      <td>28</td>\n",
       "    </tr>\n",
       "    <tr>\n",
       "      <th>408</th>\n",
       "      <td>408</td>\n",
       "      <td>28</td>\n",
       "    </tr>\n",
       "    <tr>\n",
       "      <th>436</th>\n",
       "      <td>436</td>\n",
       "      <td>28</td>\n",
       "    </tr>\n",
       "    <tr>\n",
       "      <th>461</th>\n",
       "      <td>461</td>\n",
       "      <td>28</td>\n",
       "    </tr>\n",
       "    <tr>\n",
       "      <th>16</th>\n",
       "      <td>16</td>\n",
       "      <td>27</td>\n",
       "    </tr>\n",
       "    <tr>\n",
       "      <th>26</th>\n",
       "      <td>26</td>\n",
       "      <td>27</td>\n",
       "    </tr>\n",
       "    <tr>\n",
       "      <th>46</th>\n",
       "      <td>46</td>\n",
       "      <td>27</td>\n",
       "    </tr>\n",
       "    <tr>\n",
       "      <th>101</th>\n",
       "      <td>101</td>\n",
       "      <td>27</td>\n",
       "    </tr>\n",
       "    <tr>\n",
       "      <th>266</th>\n",
       "      <td>266</td>\n",
       "      <td>27</td>\n",
       "    </tr>\n",
       "    <tr>\n",
       "      <th>299</th>\n",
       "      <td>299</td>\n",
       "      <td>27</td>\n",
       "    </tr>\n",
       "    <tr>\n",
       "      <th>328</th>\n",
       "      <td>328</td>\n",
       "      <td>27</td>\n",
       "    </tr>\n",
       "    <tr>\n",
       "      <th>347</th>\n",
       "      <td>347</td>\n",
       "      <td>27</td>\n",
       "    </tr>\n",
       "    <tr>\n",
       "      <th>390</th>\n",
       "      <td>390</td>\n",
       "      <td>27</td>\n",
       "    </tr>\n",
       "    <tr>\n",
       "      <th>416</th>\n",
       "      <td>416</td>\n",
       "      <td>27</td>\n",
       "    </tr>\n",
       "    <tr>\n",
       "      <th>452</th>\n",
       "      <td>452</td>\n",
       "      <td>27</td>\n",
       "    </tr>\n",
       "    <tr>\n",
       "      <th>22</th>\n",
       "      <td>22</td>\n",
       "      <td>26</td>\n",
       "    </tr>\n",
       "    <tr>\n",
       "      <th>36</th>\n",
       "      <td>36</td>\n",
       "      <td>26</td>\n",
       "    </tr>\n",
       "  </tbody>\n",
       "</table>\n",
       "</div>"
      ],
      "text/plain": [
       "     Index_stem  Length_stem\n",
       "73           73           30\n",
       "90           90           29\n",
       "138         138           29\n",
       "184         184           29\n",
       "249         249           29\n",
       "389         389           29\n",
       "12           12           28\n",
       "125         125           28\n",
       "151         151           28\n",
       "239         239           28\n",
       "312         312           28\n",
       "369         369           28\n",
       "385         385           28\n",
       "387         387           28\n",
       "408         408           28\n",
       "436         436           28\n",
       "461         461           28\n",
       "16           16           27\n",
       "26           26           27\n",
       "46           46           27\n",
       "101         101           27\n",
       "266         266           27\n",
       "299         299           27\n",
       "328         328           27\n",
       "347         347           27\n",
       "390         390           27\n",
       "416         416           27\n",
       "452         452           27\n",
       "22           22           26\n",
       "36           36           26"
      ]
     },
     "execution_count": 7,
     "metadata": {},
     "output_type": "execute_result"
    }
   ],
   "source": [
    "df_len_paf.nlargest(30,'Length_stem')"
   ]
  },
  {
   "cell_type": "code",
   "execution_count": 8,
   "id": "bright-millennium",
   "metadata": {
    "scrolled": false
   },
   "outputs": [
    {
     "name": "stdout",
     "output_type": "stream",
     "text": [
      "[[1042  881  388 ...    0    0    0]\n",
      " [3400   35 2612 ...    0    0    0]\n",
      " [ 588  309 3596 ...    0    0    0]\n",
      " ...\n",
      " [1085  723  839 ...    0    0    0]\n",
      " [1949 1841 3414 ...    0    0    0]\n",
      " [1604 3339 2665 ...    0    0    0]]\n"
     ]
    }
   ],
   "source": [
    "MAX_LENGTH = 26\n",
    "padded_stems = pad_sequences(encoded_stems, maxlen=MAX_LENGTH, padding='post')\n",
    "print(padded_stems)"
   ]
  },
  {
   "cell_type": "code",
   "execution_count": 9,
   "id": "animal-stand",
   "metadata": {},
   "outputs": [],
   "source": [
    "labels = pd.DataFrame(df.Label.values)"
   ]
  },
  {
   "cell_type": "code",
   "execution_count": 10,
   "id": "supreme-serum",
   "metadata": {},
   "outputs": [],
   "source": [
    "df_padded = pd.DataFrame(padded_stems)\n",
    "df_padded['Label'] = labels"
   ]
  },
  {
   "cell_type": "code",
   "execution_count": 11,
   "id": "living-wrestling",
   "metadata": {},
   "outputs": [
    {
     "name": "stdout",
     "output_type": "stream",
     "text": [
      "Shape X_train: (750, 26)\n",
      "Shape X_test: (250, 26)\n",
      "Shape y_train: (750,)\n",
      "Shape y_test: (250,)\n"
     ]
    }
   ],
   "source": [
    "X_train, X_test, y_train, y_test = train_test_split(df_padded.drop(columns=['Label']),\n",
    "                                                    df_padded['Label'],\n",
    "                                                    test_size=0.25,\n",
    "                                                    random_state=42)\n",
    "print('Shape X_train:', X_train.shape)\n",
    "print('Shape X_test:', X_test.shape)\n",
    "print('Shape y_train:', y_train.shape)\n",
    "print('Shape y_test:', y_test.shape)"
   ]
  },
  {
   "cell_type": "code",
   "execution_count": 12,
   "id": "forty-district",
   "metadata": {
    "scrolled": true
   },
   "outputs": [
    {
     "name": "stdout",
     "output_type": "stream",
     "text": [
      "Model: \"sequential\"\n",
      "_________________________________________________________________\n",
      "Layer (type)                 Output Shape              Param #   \n",
      "=================================================================\n",
      "embedding (Embedding)        (None, 26, 1)             3800      \n",
      "_________________________________________________________________\n",
      "dense (Dense)                (None, 26, 1)             2         \n",
      "=================================================================\n",
      "Total params: 3,802\n",
      "Trainable params: 3,802\n",
      "Non-trainable params: 0\n",
      "_________________________________________________________________\n",
      "None\n"
     ]
    }
   ],
   "source": [
    "model = Sequential()\n",
    "embedding_layer = Embedding(input_dim = VOCAB_SIZE, output_dim = 1,\n",
    "                            input_length = MAX_LENGTH)\n",
    "model.add(embedding_layer)\n",
    "\n",
    "model.add(Dense(1, activation='sigmoid'))\n",
    "\n",
    "model.compile(optimizer = 'adam', loss='binary_crossentropy',\n",
    "             metrics=['acc'])\n",
    "\n",
    "print(model.summary())"
   ]
  },
  {
   "cell_type": "code",
   "execution_count": 13,
   "id": "enabling-darwin",
   "metadata": {},
   "outputs": [
    {
     "name": "stdout",
     "output_type": "stream",
     "text": [
      "Epoch 1/25\n",
      "24/24 [==============================] - 0s 1ms/step - loss: 0.6928 - acc: 0.5128\n",
      "Epoch 2/25\n",
      "24/24 [==============================] - 0s 2ms/step - loss: 0.6919 - acc: 0.5308\n",
      "Epoch 3/25\n",
      "24/24 [==============================] - 0s 2ms/step - loss: 0.6921 - acc: 0.5268\n",
      "Epoch 4/25\n",
      "24/24 [==============================] - 0s 2ms/step - loss: 0.6916 - acc: 0.5303\n",
      "Epoch 5/25\n",
      "24/24 [==============================] - 0s 2ms/step - loss: 0.6901 - acc: 0.5514\n",
      "Epoch 6/25\n",
      "24/24 [==============================] - 0s 2ms/step - loss: 0.6898 - acc: 0.5566\n",
      "Epoch 7/25\n",
      "24/24 [==============================] - 0s 2ms/step - loss: 0.6887 - acc: 0.5643\n",
      "Epoch 8/25\n",
      "24/24 [==============================] - 0s 2ms/step - loss: 0.6873 - acc: 0.5826\n",
      "Epoch 9/25\n",
      "24/24 [==============================] - 0s 2ms/step - loss: 0.6861 - acc: 0.5923\n",
      "Epoch 10/25\n",
      "24/24 [==============================] - 0s 2ms/step - loss: 0.6857 - acc: 0.5818\n",
      "Epoch 11/25\n",
      "24/24 [==============================] - 0s 2ms/step - loss: 0.6849 - acc: 0.5896\n",
      "Epoch 12/25\n",
      "24/24 [==============================] - 0s 2ms/step - loss: 0.6827 - acc: 0.5982\n",
      "Epoch 13/25\n",
      "24/24 [==============================] - 0s 2ms/step - loss: 0.6820 - acc: 0.5968\n",
      "Epoch 14/25\n",
      "24/24 [==============================] - 0s 2ms/step - loss: 0.6803 - acc: 0.6093\n",
      "Epoch 15/25\n",
      "24/24 [==============================] - 0s 2ms/step - loss: 0.6793 - acc: 0.6080\n",
      "Epoch 16/25\n",
      "24/24 [==============================] - 0s 2ms/step - loss: 0.6786 - acc: 0.6034\n",
      "Epoch 17/25\n",
      "24/24 [==============================] - 0s 2ms/step - loss: 0.6770 - acc: 0.5990\n",
      "Epoch 18/25\n",
      "24/24 [==============================] - 0s 2ms/step - loss: 0.6762 - acc: 0.5981\n",
      "Epoch 19/25\n",
      "24/24 [==============================] - 0s 2ms/step - loss: 0.6752 - acc: 0.5927\n",
      "Epoch 20/25\n",
      "24/24 [==============================] - 0s 2ms/step - loss: 0.6733 - acc: 0.5994\n",
      "Epoch 21/25\n",
      "24/24 [==============================] - 0s 3ms/step - loss: 0.6727 - acc: 0.5991\n",
      "Epoch 22/25\n",
      "24/24 [==============================] - 0s 3ms/step - loss: 0.6705 - acc: 0.5975\n",
      "Epoch 23/25\n",
      "24/24 [==============================] - 0s 3ms/step - loss: 0.6697 - acc: 0.6006\n",
      "Epoch 24/25\n",
      "24/24 [==============================] - 0s 2ms/step - loss: 0.6675 - acc: 0.6051\n",
      "Epoch 25/25\n",
      "24/24 [==============================] - 0s 4ms/step - loss: 0.6653 - acc: 0.6116\n"
     ]
    },
    {
     "data": {
      "text/plain": [
       "<tensorflow.python.keras.callbacks.History at 0x7f84f5023ca0>"
      ]
     },
     "execution_count": 13,
     "metadata": {},
     "output_type": "execute_result"
    }
   ],
   "source": [
    "model.fit(X_train, y_train, epochs=25)"
   ]
  },
  {
   "cell_type": "code",
   "execution_count": 14,
   "id": "another-mechanism",
   "metadata": {
    "scrolled": true
   },
   "outputs": [
    {
     "name": "stdout",
     "output_type": "stream",
     "text": [
      "8/8 [==============================] - 0s 1ms/step - loss: 0.6844 - acc: 0.5209\n"
     ]
    },
    {
     "data": {
      "text/plain": [
       "(0.6843556761741638, 0.5209230780601501)"
      ]
     },
     "execution_count": 14,
     "metadata": {},
     "output_type": "execute_result"
    }
   ],
   "source": [
    "loss, accuracy = model.evaluate(X_test, y_test)\n",
    "loss,accuracy"
   ]
  },
  {
   "cell_type": "markdown",
   "id": "covered-failure",
   "metadata": {},
   "source": [
    "#### Redes Recurrentes"
   ]
  },
  {
   "cell_type": "code",
   "execution_count": 15,
   "id": "correct-circus",
   "metadata": {
    "scrolled": true
   },
   "outputs": [
    {
     "name": "stdout",
     "output_type": "stream",
     "text": [
      "Model: \"sequential_1\"\n",
      "_________________________________________________________________\n",
      "Layer (type)                 Output Shape              Param #   \n",
      "=================================================================\n",
      "embedding_1 (Embedding)      (None, 26, 32)            121600    \n",
      "_________________________________________________________________\n",
      "lstm (LSTM)                  (None, 32)                8320      \n",
      "_________________________________________________________________\n",
      "dropout (Dropout)            (None, 32)                0         \n",
      "_________________________________________________________________\n",
      "dense_1 (Dense)              (None, 1)                 33        \n",
      "_________________________________________________________________\n",
      "activation (Activation)      (None, 1)                 0         \n",
      "=================================================================\n",
      "Total params: 129,953\n",
      "Trainable params: 129,953\n",
      "Non-trainable params: 0\n",
      "_________________________________________________________________\n"
     ]
    }
   ],
   "source": [
    "model = Sequential()\n",
    "model.add(Embedding(input_dim=VOCAB_SIZE, output_dim=32, input_length=MAX_LENGTH))\n",
    "model.add(LSTM(32, input_shape=(MAX_LENGTH,)))\n",
    "model.add(Dropout(0.4))\n",
    "model.add(Dense(1))\n",
    "model.add(Activation('sigmoid'))\n",
    "\n",
    "model.compile(loss='binary_crossentropy', optimizer='adam', metrics=['accuracy'])\n",
    "model.summary()"
   ]
  },
  {
   "cell_type": "code",
   "execution_count": 16,
   "id": "opponent-roads",
   "metadata": {},
   "outputs": [],
   "source": [
    "X_test, X_valid, y_test, y_valid = train_test_split(X_test,\n",
    "                                                   y_test,\n",
    "                                                   test_size=0.5,\n",
    "                                                   random_state=42)"
   ]
  },
  {
   "cell_type": "code",
   "execution_count": 17,
   "id": "korean-yukon",
   "metadata": {},
   "outputs": [],
   "source": [
    "call = keras.callbacks.EarlyStopping(patience=4)"
   ]
  },
  {
   "cell_type": "code",
   "execution_count": 18,
   "id": "previous-recommendation",
   "metadata": {},
   "outputs": [
    {
     "name": "stdout",
     "output_type": "stream",
     "text": [
      "Epoch 1/20\n",
      "6/6 [==============================] - 3s 228ms/step - loss: 0.6927 - accuracy: 0.5354 - val_loss: 0.6895 - val_accuracy: 0.5840\n",
      "Epoch 2/20\n",
      "6/6 [==============================] - 0s 35ms/step - loss: 0.6927 - accuracy: 0.5030 - val_loss: 0.6907 - val_accuracy: 0.5840\n",
      "Epoch 3/20\n",
      "6/6 [==============================] - 0s 30ms/step - loss: 0.6917 - accuracy: 0.5463 - val_loss: 0.6902 - val_accuracy: 0.5840\n",
      "Epoch 4/20\n",
      "6/6 [==============================] - 0s 35ms/step - loss: 0.6911 - accuracy: 0.5398 - val_loss: 0.6905 - val_accuracy: 0.5920\n",
      "Epoch 5/20\n",
      "6/6 [==============================] - 0s 33ms/step - loss: 0.6897 - accuracy: 0.5554 - val_loss: 0.6889 - val_accuracy: 0.5920\n",
      "Epoch 6/20\n",
      "6/6 [==============================] - 0s 36ms/step - loss: 0.6862 - accuracy: 0.5767 - val_loss: 0.6861 - val_accuracy: 0.5840\n",
      "Epoch 7/20\n",
      "6/6 [==============================] - 0s 34ms/step - loss: 0.6748 - accuracy: 0.6951 - val_loss: 0.6735 - val_accuracy: 0.6880\n",
      "Epoch 8/20\n",
      "6/6 [==============================] - 0s 35ms/step - loss: 0.6135 - accuracy: 0.8652 - val_loss: 0.5991 - val_accuracy: 0.6960\n",
      "Epoch 9/20\n",
      "6/6 [==============================] - 0s 35ms/step - loss: 0.4308 - accuracy: 0.8929 - val_loss: 0.6064 - val_accuracy: 0.7120\n",
      "Epoch 10/20\n",
      "6/6 [==============================] - 0s 45ms/step - loss: 0.2842 - accuracy: 0.9128 - val_loss: 0.6762 - val_accuracy: 0.7040\n",
      "Epoch 11/20\n",
      "6/6 [==============================] - 0s 60ms/step - loss: 0.2142 - accuracy: 0.9576 - val_loss: 0.8523 - val_accuracy: 0.6480\n",
      "Epoch 12/20\n",
      "6/6 [==============================] - 0s 52ms/step - loss: 0.1146 - accuracy: 0.9823 - val_loss: 0.9331 - val_accuracy: 0.6560\n"
     ]
    }
   ],
   "source": [
    "history = model.fit(X_train, y_train, batch_size=128, epochs=20, validation_data=(X_valid,y_valid), callbacks=call)"
   ]
  },
  {
   "cell_type": "code",
   "execution_count": 19,
   "id": "thousand-federal",
   "metadata": {},
   "outputs": [
    {
     "data": {
      "image/png": "[encoded data removed]",
      "text/plain": [
       "<Figure size 576x360 with 1 Axes>"
      ]
     },
     "metadata": {
      "needs_background": "light"
     },
     "output_type": "display_data"
    }
   ],
   "source": [
    "pd.DataFrame(history.history).plot(figsize=(8,5))\n",
    "plt.grid()\n",
    "plt.show()"
   ]
  },
  {
   "cell_type": "code",
   "execution_count": 20,
   "id": "ordered-handling",
   "metadata": {},
   "outputs": [
    {
     "name": "stdout",
     "output_type": "stream",
     "text": [
      "4/4 [==============================] - 0s 6ms/step - loss: 0.9227 - accuracy: 0.6560\n"
     ]
    },
    {
     "data": {
      "text/plain": [
       "[0.9226838946342468, 0.656000018119812]"
      ]
     },
     "execution_count": 20,
     "metadata": {},
     "output_type": "execute_result"
    }
   ],
   "source": [
    "model.evaluate(X_test, y_test)"
   ]
  }
 ],
 "metadata": {
  "kernelspec": {
   "display_name": "Python 3",
   "language": "python",
   "name": "python3"
  },
  "language_info": {
   "codemirror_mode": {
    "name": "ipython",
    "version": 3
   },
   "file_extension": ".py",
   "mimetype": "text/x-python",
   "name": "python",
   "nbconvert_exporter": "python",
   "pygments_lexer": "ipython3",
   "version": "3.9.1"
  }
 },
 "nbformat": 4,
 "nbformat_minor": 5
}
